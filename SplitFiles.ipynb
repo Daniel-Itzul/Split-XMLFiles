{
 "cells": [
  {
   "cell_type": "code",
   "execution_count": 3,
   "metadata": {},
   "outputs": [],
   "source": [
    "import os\n",
    "import io\n",
    "from pathlib import Path"
   ]
  },
  {
   "cell_type": "code",
   "execution_count": 4,
   "metadata": {},
   "outputs": [],
   "source": [
    "#Reads XML files in a directory\n",
    "def readDirectory (path): \n",
    "    data = os.listdir(path)\n",
    "    directory = []\n",
    "    for file in data:\n",
    "        if file.find('.xml')>0:\n",
    "            directory.append(path+\"/\"+file)\n",
    "    return directory"
   ]
  },
  {
   "cell_type": "code",
   "execution_count": 8,
   "metadata": {},
   "outputs": [],
   "source": [
    "#splits big XML files with several XML objects in single XML files per XML object\n",
    "def splitXMLFiles (file, pattern, pattern2):\n",
    "    flag = 0\n",
    "    p = Path(file[0:file.find('.')])\n",
    "    p.mkdir(exist_ok=True)\n",
    "    with io.open(file, encoding='latin-1') as myfile:\n",
    "        for i in myfile.readlines():\n",
    "            if (i.find(pattern.strip())>=0) or (i.find(pattern2.strip())>=0):\n",
    "                if flag>0:\n",
    "                    f.close()\n",
    "                flag = flag+1\n",
    "                f=open(file[0:file.find('.')]+\"/\"+p.name+\"-\"+str(flag)+\".xml\", \"a+\")\n",
    "            f.write(i.strip()+\"\\r\")\n",
    "    return print(\"processed \"+file)"
   ]
  },
  {
   "cell_type": "code",
   "execution_count": 12,
   "metadata": {},
   "outputs": [],
   "source": [
    "#splits big XML files with several XML objects in single XML files per XML object\n",
    "def splitDirectFiles (directory, pattern, pattern2):\n",
    "    files = readDirectory(directory)\n",
    "    for file in files:\n",
    "        splitXMLFiles(file, pattern, pattern2)\n",
    "    return print('done')"
   ]
  },
  {
   "cell_type": "code",
   "execution_count": 13,
   "metadata": {},
   "outputs": [
    {
     "name": "stdout",
     "output_type": "stream",
     "text": [
      "processed NewBatchofFiles/eop_20200403_Medicaid_09-TagsOnly.xml\n",
      "processed NewBatchofFiles/eop_20200403_HMO_02-TagsOnly.xml\n",
      "processed NewBatchofFiles/eop_20200403_Medicaid_08-TagsOnly.xml\n",
      "processed NewBatchofFiles/eop_20200403_HMO_03-TagsOnly.xml\n",
      "processed NewBatchofFiles/eop_20200403_HMO_04-TagsOnly.xml\n",
      "processed NewBatchofFiles/eop_20200403_Medicaid_07-TagsOnly.xml\n",
      "processed NewBatchofFiles/eop_20200403_FirstCareDefault_06-TagsOnly.xml\n",
      "processed NewBatchofFiles/eop_20200403_CHIP_01-TagsOnly.xml\n",
      "processed NewBatchofFiles/eop_20200403_PPO_05-TagsOnly.xml\n",
      "done\n"
     ]
    }
   ],
   "source": [
    "splitDirectFiles('NewBatchofFiles','<?xml version=\"1.0\" encoding=\"UTF-8\"?>', \"<?xml version='1.0' encoding='UTF-8'?>\")"
   ]
  },
  {
   "cell_type": "code",
   "execution_count": null,
   "metadata": {},
   "outputs": [],
   "source": []
  },
  {
   "cell_type": "code",
   "execution_count": null,
   "metadata": {},
   "outputs": [],
   "source": []
  },
  {
   "cell_type": "code",
   "execution_count": null,
   "metadata": {},
   "outputs": [],
   "source": []
  }
 ],
 "metadata": {
  "kernelspec": {
   "display_name": "Python 3",
   "language": "python",
   "name": "python3"
  },
  "language_info": {
   "codemirror_mode": {
    "name": "ipython",
    "version": 3
   },
   "file_extension": ".py",
   "mimetype": "text/x-python",
   "name": "python",
   "nbconvert_exporter": "python",
   "pygments_lexer": "ipython3",
   "version": "3.7.4"
  }
 },
 "nbformat": 4,
 "nbformat_minor": 2
}
